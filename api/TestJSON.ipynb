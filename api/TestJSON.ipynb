{
 "cells": [
  {
   "cell_type": "code",
   "execution_count": 21,
   "metadata": {},
   "outputs": [
    {
     "name": "stdout",
     "output_type": "stream",
     "text": [
      "{'Direction': 'East', 'SubDirs': ['N5', 'N6']}\n",
      "East\n",
      "['N5', 'N6']\n"
     ]
    }
   ],
   "source": [
    "import json\n",
    "jsonData = '{\"Direction\": \"North\", \"SubDirs\": [\"N3\",\"N4\"], \"Direction\": \"East\", \"SubDirs\": [\"N5\", \"N6\"]}'\n",
    "jsonToPython = json.loads(jsonData)\n",
    "print(jsonToPython)\n",
    "print(jsonToPython[\"Direction\"])\n",
    "print(jsonToPython[\"SubDirs\"])\n"
   ]
  },
  {
   "cell_type": "code",
   "execution_count": 41,
   "metadata": {},
   "outputs": [
    {
     "name": "stdout",
     "output_type": "stream",
     "text": [
      "North N4 N5\n",
      "NNE N6 N7\n",
      "NE N8 E1\n",
      "ENE E2 E3\n",
      "East E4 E5\n",
      "ESE E6 E7\n",
      "SE E8 S1\n",
      "SSE S2 S3\n",
      "South S4 S5\n",
      "SSW S6 S7\n",
      "SW S8 W1\n",
      "WSW W2 W3\n",
      "West W4 W5\n",
      "WNW W6 W7\n",
      "NW W8 N1\n",
      "NNW N2 N3\n",
      "'North'\n",
      "'N4'\n",
      "'N5'\n"
     ]
    }
   ],
   "source": [
    "import json\n",
    "from pprint import pprint\n",
    "\n",
    "with open('/Users/Ritesh/Documents/vasteng/vastu.io/api/vastuchakra.json') as data_file:    \n",
    "    data = json.load(data_file)\n",
    "\n",
    "# pprint(data)\n",
    "for x in data['directions']:\n",
    "        print (x['name'], x['subdir1'], x['subdir2'])\n",
    "\n",
    "pprint(data[\"directions\"][0][\"name\"])\n",
    "pprint(data[\"directions\"][0][\"subdir1\"])\n",
    "pprint(data[\"directions\"][0][\"subdir2\"])\n",
    "\n"
   ]
  }
 ],
 "metadata": {
  "kernelspec": {
   "display_name": "Python 3",
   "language": "python",
   "name": "python3"
  },
  "language_info": {
   "codemirror_mode": {
    "name": "ipython",
    "version": 3
   },
   "file_extension": ".py",
   "mimetype": "text/x-python",
   "name": "python",
   "nbconvert_exporter": "python",
   "pygments_lexer": "ipython3",
   "version": "3.6.2"
  }
 },
 "nbformat": 4,
 "nbformat_minor": 2
}
